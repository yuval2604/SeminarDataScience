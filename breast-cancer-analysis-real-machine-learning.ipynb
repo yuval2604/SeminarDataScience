{
 "cells": [
  {
   "cell_type": "markdown",
   "metadata": {},
   "source": [
    "# **Breast cancer analysis: Real Machine Learning**"
   ]
  },
  {
   "cell_type": "markdown",
   "metadata": {},
   "source": [
    "This dataset can be found in this link: https://www.kaggle.com/uciml/breast-cancer-wisconsin-data\n",
    "\n",
    "Features are computed from a digitized image of a fine needle aspirate (FNA) of a breast mass. They describe characteristics of the cell nuclei present in the image. n the 3-dimensional space is that described in: [K. P. Bennett and O. L. Mangasarian: \"Robust Linear Programming Discrimination of Two Linearly Inseparable Sets\", Optimization Methods and Software 1, 1992, 23-34].\n",
    "\n",
    "This database is also available through the UW CS ftp server: ftp ftp.cs.wisc.edu cd math-prog/cpo-dataset/machine-learn/WDBC/\n",
    "\n",
    "Also can be found on UCI Machine Learning Repository: https://archive.ics.uci.edu/ml/datasets/Breast+Cancer+Wisconsin+%28Diagnostic%29"
   ]
  },
  {
   "cell_type": "markdown",
   "metadata": {},
   "source": [
    "# **Step 1: R libraries needed in this kernel**"
   ]
  },
  {
   "cell_type": "code",
   "execution_count": null,
   "metadata": {
    "_execution_state": "idle",
    "_uuid": "051d70d956493feee0c6d64651c6a088724dca2a"
   },
   "outputs": [],
   "source": [
    "library(psych, warn.conflicts=F)\n",
    "library(data.table, warn.conflicts=F)\n",
    "library(ggplot2,warn.conflicts=F)\n",
    "library(plotly,warn.conflicts=F)\n",
    "library(expss,warn.conflicts=F)\n",
    "library(tidyverse,warn.conflicts=F)\n",
    "library(pander,warn.conflicts=F)\n",
    "library(forcats,warn.conflicts=F)\n",
    "library(stringr,warn.conflicts=F)\n",
    "library(caTools,warn.conflicts=F)\n",
    "library(VIM,warn.conflicts=F)\n",
    "library(caret,warn.conflicts=F)\n",
    "require(reshape2,warn.conflicts=F)\n",
    "library(GGally,warn.conflicts=F)\n",
    "library(corrplot,warn.conflicts=F)\n",
    "library(factoextra,warn.conflicts=F)\n",
    "library(gridExtra,warn.conflicts=F)\n",
    "library(C50,warn.conflicts=F)\n",
    "library(highcharter,warn.conflicts=F)\n",
    "library(rpart,warn.conflicts=F)\n",
    "library(e1071,warn.conflicts=F)\n",
    "library(ranger,warn.conflicts=F)\n",
    "library(epiR,warn.conflicts=F)\n",
    "library(randomForest,warn.conflicts=F)\n",
    "library(party,warn.conflicts=F)\n",
    "library(class,warn.conflicts=F)\n",
    "library(kknn,warn.conflicts=F) \n",
    "library(gbm,warn.conflicts=F)\n",
    "library(ada,warn.conflicts=F)"
   ]
  },
  {
   "cell_type": "markdown",
   "metadata": {},
   "source": [
    "# **Step 2: Dataset**"
   ]
  },
  {
   "cell_type": "markdown",
   "metadata": {},
   "source": [
    "Dataset and details can be found here: https://www.kaggle.com/uciml/breast-cancer-wisconsin-data#data.csv"
   ]
  },
  {
   "cell_type": "markdown",
   "metadata": {},
   "source": [
    "Dataset has 33 columns but one is totally empty, so I removed it."
   ]
  },
  {
   "cell_type": "code",
   "execution_count": null,
   "metadata": {},
   "outputs": [],
   "source": [
    "data = pd.read_csv(\"BreastCancerDetection.csv\")str(data)\n",
    "data<-data[,-33]"
   ]
  },
  {
   "cell_type": "markdown",
   "metadata": {},
   "source": [
    "The meaning of each variable is described below:\n",
    "\n",
    "- id: ID number\n",
    "\n",
    "- diagnosis: The diagnosis of breast tissues (M = malignant, B = benign)\n",
    "\n",
    "- radius_mean: mean of distances from center to points on the perimeter\n",
    "\n",
    "- texture_mean: standard deviation of gray-scale values\n",
    "\n",
    "- perimeter_mean: mean size of the core tumor\n",
    "\n",
    "- area_mean: (no description provided)\n",
    "\n",
    "- smoothness_mean: mean of local variation in radius lengths\n",
    "\n",
    "- compactness_mean: mean of perimeter^2 / area - 1.0\n",
    "\n",
    "- concavity_mean: mean of severity of concave portions of the contour\n",
    "\n",
    "- concave points_mean: mean for number of concave portions of the contour\n",
    "\n",
    "- symmetry_mean: (no description provided)\n",
    "\n",
    "- fractal_dimension_mean: mean for \"coastline approximation\" - 1\n",
    "\n",
    "- radius_se: standard error for the mean of distances from center to points on the perimeter\n",
    "\n",
    "- texture_se: standard error for standard deviation of gray-scale values\n",
    "\n",
    "- perimeter_se: (no description provided)\n",
    "\n",
    "- area_se: (no description provided)\n",
    "\n",
    "- smoothness_se: standard error for local variation in radius lengths\n",
    "\n",
    "- compactness_se: standard error for perimeter^2 / area - 1.0\n",
    "\n",
    "- concavity_se: standard error for severity of concave portions of the contour\n",
    "\n",
    "- concave points_se: standard error for number of concave portions of the contour\n",
    "\n",
    "- symmetry_se: (no description provided)\n",
    "\n",
    "- fractal_dimension_se: standard error for \"coastline approximation\" - 1\n",
    "\n",
    "- radius_worst: \"worst\" or largest mean value for mean of distances from center to points on the perimeter\n",
    "\n",
    "- texture_worst: \"worst\" or largest mean value for standard deviation of gray-scale values\n",
    "\n",
    "- perimeter_worst: (no description provided)\n",
    "\n",
    "- area_worst: (no description provided)\n",
    "\n",
    "- smoothness_worst: \"worst\" or largest mean value for local variation in radius lengths\n",
    "\n",
    "- compactness_worst: \"worst\" or largest mean value for perimeter^2 / area - 1.0\n",
    "\n",
    "- concavity_worst: \"worst\" or largest mean value for severity of concave portions of the contour concave \n",
    "\n",
    "- points_worst: \"worst\" or largest mean value for number of concave portions of the contour\n",
    "\n",
    "- symmetry_worst: (no description provided)\n",
    "\n",
    "- fractal_dimension_worst: \"worst\" or largest mean value for \"coastline approximation\" - 1"
   ]
  },
  {
   "cell_type": "markdown",
   "metadata": {},
   "source": [
    "# **Step 3: The endpoint**"
   ]
  },
  {
   "cell_type": "markdown",
   "metadata": {},
   "source": [
    "To design a machine learning algorithm that is able to correctly classify whether the tumor is benign or malignant."
   ]
  },
  {
   "cell_type": "markdown",
   "metadata": {},
   "source": [
    "# **Step 4: Missing data**"
   ]
  },
  {
   "cell_type": "markdown",
   "metadata": {},
   "source": [
    "Lets check is there are missing data...No missing data!"
   ]
  },
  {
   "cell_type": "code",
   "execution_count": null,
   "metadata": {},
   "outputs": [],
   "source": [
    "missing_values <- data %>% summarize_all(funs(sum(is.na(.))/n()))\n",
    "\n",
    "missing_values <- gather(missing_values, key=\"feature\", value=\"missing_pct\")\n",
    "\n",
    "missing_values %>% \n",
    "\n",
    "  ggplot(aes(x=reorder(feature,-missing_pct),y=missing_pct)) +\n",
    "\n",
    "  geom_bar(stat=\"identity\",fill=\"red\")+\n",
    "\n",
    "  coord_flip()+theme_bw()"
   ]
  },
  {
   "cell_type": "markdown",
   "metadata": {},
   "source": [
    "As there are no missing data, there is no pattern available."
   ]
  },
  {
   "cell_type": "code",
   "execution_count": null,
   "metadata": {},
   "outputs": [],
   "source": [
    "aggr(data, prop = FALSE, combined = TRUE, numbers = TRUE, sortVars = TRUE, sortCombs = TRUE)"
   ]
  },
  {
   "cell_type": "markdown",
   "metadata": {},
   "source": [
    "# **Step 5: Target variable**"
   ]
  },
  {
   "cell_type": "code",
   "execution_count": null,
   "metadata": {},
   "outputs": [],
   "source": [
    "table(data$diagnosis)\n",
    "prop.table(table(data$diagnosis))*100"
   ]
  },
  {
   "cell_type": "markdown",
   "metadata": {},
   "source": [
    "Target variable is a character-type variable, so it is recommended to convert it into a factor."
   ]
  },
  {
   "cell_type": "code",
   "execution_count": null,
   "metadata": {},
   "outputs": [],
   "source": [
    "data$diagnosis<-factor(data$diagnosis, labels=c('B','M'))\n",
    "prop.table(table(data$diagnosis))*100"
   ]
  },
  {
   "cell_type": "markdown",
   "metadata": {},
   "source": [
    "## **Step 6: Descriptive analysis**"
   ]
  },
  {
   "cell_type": "code",
   "execution_count": null,
   "metadata": {},
   "outputs": [],
   "source": [
    "psych::describeBy(data[3:32], group=data$diagnosis)"
   ]
  },
  {
   "cell_type": "markdown",
   "metadata": {},
   "source": [
    "These plots show that, in general, malignant diagnoses have higher scores in all variables."
   ]
  },
  {
   "cell_type": "code",
   "execution_count": null,
   "metadata": {},
   "outputs": [],
   "source": [
    "#Mean\n",
    "df.m <- melt(data[,-c(1,13:32)], id.var = \"diagnosis\")\n",
    "p <- ggplot(data = df.m, aes(x=variable, y=value)) + \n",
    "  geom_boxplot(aes(fill=diagnosis)) + facet_wrap( ~ variable, scales=\"free\")+ xlab(\"Variables\") + ylab(\"\")+ guides(fill=guide_legend(title=\"Group\"))\n",
    "p\n",
    "\n",
    "#Se\n",
    "df.m <- melt(data[,-c(1,3:12,23:32)], id.var = \"diagnosis\")\n",
    "p <- ggplot(data = df.m, aes(x=variable, y=value)) + \n",
    "  geom_boxplot(aes(fill=diagnosis)) + facet_wrap( ~ variable, scales=\"free\")+ xlab(\"Variables\") + ylab(\"\")+ guides(fill=guide_legend(title=\"Group\"))\n",
    "p\n",
    "\n",
    "#Worst\n",
    "df.m <- melt(data[,c(2,23:32)], id.var = \"diagnosis\")\n",
    "p <- ggplot(data = df.m, aes(x=variable, y=value)) + \n",
    "  geom_boxplot(aes(fill=diagnosis)) + facet_wrap( ~ variable, scales=\"free\")+ xlab(\"Variables\") + ylab(\"\")+ guides(fill=guide_legend(title=\"Group\"))\n",
    "p"
   ]
  },
  {
   "cell_type": "markdown",
   "metadata": {},
   "source": [
    "## **Step 7: Correlations**"
   ]
  },
  {
   "cell_type": "markdown",
   "metadata": {},
   "source": [
    "The plots presented below are packaged by variables, to understand the pattern between them. We see that there are extremely high correlations between some of the variables."
   ]
  },
  {
   "cell_type": "code",
   "execution_count": null,
   "metadata": {},
   "outputs": [],
   "source": [
    "pairs.panels(data[,c(3:12)], method=\"pearson\",\n",
    "             hist.col = \"#1fbbfa\", density=TRUE, ellipses=TRUE, show.points = TRUE,\n",
    "             pch=1, lm=TRUE, cex.cor=1, smoother=F, stars = T, main=\"Cancer Mean\")\n",
    "\n",
    "pairs.panels(data[,c(13:22)], method=\"pearson\",\n",
    "             hist.col = \"#1fbbfa\", density=TRUE, ellipses=TRUE, show.points = TRUE,\n",
    "             pch=1, lm=TRUE, cex.cor=1, smoother=F, stars = T, main=\"Cancer SE\")\n",
    "\n",
    "pairs.panels(data[,c(23:32)], method=\"pearson\",\n",
    "             hist.col = \"#1fbbfa\", density=TRUE, ellipses=TRUE, show.points = TRUE,\n",
    "             pch=1, lm=TRUE, cex.cor=1, smoother=F, stars = T, main=\"Cancer Worst\")"
   ]
  },
  {
   "cell_type": "code",
   "execution_count": null,
   "metadata": {},
   "outputs": [],
   "source": [
    "w.corr<-cor(data[,c(3:12)],method=\"pearson\")\n",
    "corrplot(w.corr, order='hclust', method='ellipse',addCoef.col = 'black',type='lower', number.cex = 1,tl.cex = 1, diag=F,tl.col = 'black',tl.srt=15)\n",
    "\n",
    "w.corr<-cor(data[,c(13:22)],method=\"pearson\")\n",
    "corrplot(w.corr, order='hclust', method='ellipse',addCoef.col = 'black',type='lower', number.cex = 1,tl.cex = 1, diag=F,tl.col = 'black',tl.srt=15)\n",
    "\n",
    "w.corr<-cor(data[,c(23:32)],method=\"pearson\")\n",
    "corrplot(w.corr, order='hclust', method='ellipse',addCoef.col = 'black',type='lower', number.cex = 1,tl.cex = 1, diag=F,tl.col = 'black',tl.srt=15)"
   ]
  },
  {
   "cell_type": "code",
   "execution_count": null,
   "metadata": {},
   "outputs": [],
   "source": [
    "w.corr<-cor(data[,c(3:32)],method=\"pearson\")\n",
    "corrplot(w.corr, order='hclust', method='ellipse',addCoef.col = 'black',type='lower', number.cex = 0.25,tl.cex = 0.25, diag=F,tl.col = 'black',tl.srt=15)"
   ]
  },
  {
   "cell_type": "code",
   "execution_count": null,
   "metadata": {},
   "outputs": [],
   "source": [
    "col<-colorRampPalette(c('blue','white','red'))(20)\n",
    "heatmap(x=w.corr, col=col,symm=T)"
   ]
  },
  {
   "cell_type": "markdown",
   "metadata": {},
   "source": [
    "## **Step 8: Training and testing datasets**"
   ]
  },
  {
   "cell_type": "code",
   "execution_count": null,
   "metadata": {},
   "outputs": [],
   "source": [
    "dataset<-data\n",
    "head(dataset)"
   ]
  },
  {
   "cell_type": "markdown",
   "metadata": {},
   "source": [
    "Dataset is divided into two datasets: training (70%) and testing (30%)."
   ]
  },
  {
   "cell_type": "code",
   "execution_count": null,
   "metadata": {},
   "outputs": [],
   "source": [
    "set.seed(123)\n",
    "smp_size <- floor(0.70 * nrow(dataset))\n",
    "train_ind <- sample(seq_len(nrow(dataset)), size = smp_size)\n",
    "train <- dataset[train_ind, ]\n",
    "test <- dataset[-train_ind, ]"
   ]
  },
  {
   "cell_type": "markdown",
   "metadata": {},
   "source": [
    "Let's check the target variable."
   ]
  },
  {
   "cell_type": "code",
   "execution_count": null,
   "metadata": {},
   "outputs": [],
   "source": [
    "prop.table(table(train$diagnosis))*100\n",
    "prop.table(table(test$diagnosis))*100"
   ]
  },
  {
   "cell_type": "markdown",
   "metadata": {},
   "source": [
    "# **Step 9: It's machine learning time!**"
   ]
  },
  {
   "cell_type": "markdown",
   "metadata": {},
   "source": [
    "## **ML 1: Quinlan's C5.0**"
   ]
  },
  {
   "cell_type": "markdown",
   "metadata": {},
   "source": [
    "Training the model."
   ]
  },
  {
   "cell_type": "code",
   "execution_count": null,
   "metadata": {},
   "outputs": [],
   "source": [
    "names(train)"
   ]
  },
  {
   "cell_type": "code",
   "execution_count": null,
   "metadata": {},
   "outputs": [],
   "source": [
    "learn_c50 <- C5.0(train[,-c(1,2)],train$diagnosis)\n",
    "learn_c50"
   ]
  },
  {
   "cell_type": "markdown",
   "metadata": {},
   "source": [
    "Testing the model."
   ]
  },
  {
   "cell_type": "code",
   "execution_count": null,
   "metadata": {},
   "outputs": [],
   "source": [
    "pre_c50 <- predict(learn_c50, test[,-c(1,2)])\n",
    "cm_c50 <- confusionMatrix(pre_c50, test$diagnosis)\n",
    "cm_c50"
   ]
  },
  {
   "cell_type": "markdown",
   "metadata": {},
   "source": [
    " ## **ML 2: Quinlan's C5.0 tunned**"
   ]
  },
  {
   "cell_type": "code",
   "execution_count": null,
   "metadata": {},
   "outputs": [],
   "source": [
    "acc_test <- numeric()\n",
    "accuracy1 <- NULL; accuracy2 <- NULL\n",
    "\n",
    "for(i in 1:50){\n",
    "    learn_imp_c50 <- C5.0(train[,-c(1,2)],train$diagnosis,trials = i)      \n",
    "    p_c50 <- predict(learn_imp_c50, test[,-c(1,2)]) \n",
    "    accuracy1 <- confusionMatrix(p_c50, test$diagnosis)\n",
    "    accuracy2[i] <- accuracy1$overall[1]\n",
    "}\n",
    "\n",
    "acc <- data.frame(t= seq(1,50), cnt = accuracy2)\n",
    "\n",
    "opt_t <- subset(acc, cnt==max(cnt))[1,]\n",
    "sub <- paste(\"Optimal number of trials is\", opt_t$t, \"(accuracy :\", opt_t$cnt,\") in C5.0\")\n",
    "\n",
    "hchart(acc, 'line', hcaes(t, cnt)) %>%\n",
    "  hc_title(text = \"Accuracy With Varying Trials (C5.0)\") %>%\n",
    "  hc_subtitle(text = sub) %>%\n",
    "  hc_add_theme(hc_theme_google()) %>%\n",
    "  hc_xAxis(title = list(text = \"Number of Trials\")) %>%\n",
    "  hc_yAxis(title = list(text = \"Accuracy\"))"
   ]
  },
  {
   "cell_type": "code",
   "execution_count": null,
   "metadata": {},
   "outputs": [],
   "source": [
    "learn_imp_c50 <- C5.0(train[,-c(1,2)],train$diagnosis,trials=opt_t$t)\n",
    "pre_imp_c50 <- predict(learn_imp_c50, test[,-c(1,2)])\n",
    "cm_imp_c50 <- confusionMatrix(pre_imp_c50, test$diagnosis)\n",
    "cm_imp_c50"
   ]
  },
  {
   "cell_type": "markdown",
   "metadata": {},
   "source": [
    " ## **ML 3: Rpart (recursive partitioning and regression trees)**"
   ]
  },
  {
   "cell_type": "markdown",
   "metadata": {},
   "source": [
    "Training the model"
   ]
  },
  {
   "cell_type": "code",
   "execution_count": null,
   "metadata": {},
   "outputs": [],
   "source": [
    "learn_rp <- rpart(diagnosis~.,data=train[,-1],control=rpart.control(minsplit=2))"
   ]
  },
  {
   "cell_type": "markdown",
   "metadata": {},
   "source": [
    "Testing the model."
   ]
  },
  {
   "cell_type": "code",
   "execution_count": null,
   "metadata": {},
   "outputs": [],
   "source": [
    "pre_rp <- predict(learn_rp, test[,-c(1,2)], type=\"class\")\n",
    "cm_rp  <- confusionMatrix(pre_rp, test$diagnosis)\n",
    "cm_rp"
   ]
  },
  {
   "cell_type": "markdown",
   "metadata": {},
   "source": [
    " ## **ML 4: Prunned Rpart (recursive partitioning and regression trees)**"
   ]
  },
  {
   "cell_type": "markdown",
   "metadata": {},
   "source": [
    "Training the model."
   ]
  },
  {
   "cell_type": "code",
   "execution_count": null,
   "metadata": {},
   "outputs": [],
   "source": [
    "learn_pru <- prune(learn_rp, cp=learn_rp$cptable[which.min(learn_rp$cptable[,\"xerror\"]),\"CP\"])"
   ]
  },
  {
   "cell_type": "markdown",
   "metadata": {},
   "source": [
    "Testing the model."
   ]
  },
  {
   "cell_type": "code",
   "execution_count": null,
   "metadata": {},
   "outputs": [],
   "source": [
    "pre_pru <- predict(learn_pru, test[,-c(1,2)], type=\"class\")\n",
    "cm_pru <-confusionMatrix(pre_pru, test$diagnosis)\n",
    "cm_pru"
   ]
  },
  {
   "cell_type": "markdown",
   "metadata": {},
   "source": [
    " ## **ML 5: Naive Bayes**"
   ]
  },
  {
   "cell_type": "markdown",
   "metadata": {},
   "source": [
    "Training the model."
   ]
  },
  {
   "cell_type": "code",
   "execution_count": null,
   "metadata": {},
   "outputs": [],
   "source": [
    "learn_nb <- naiveBayes(train[,-c(1,2)], train$diagnosis)"
   ]
  },
  {
   "cell_type": "markdown",
   "metadata": {},
   "source": [
    "Testing the model."
   ]
  },
  {
   "cell_type": "code",
   "execution_count": null,
   "metadata": {},
   "outputs": [],
   "source": [
    "pre_nb <- predict(learn_nb, test[,-c(1,2)])\n",
    "cm_nb <- confusionMatrix(pre_nb, test$diagnosis)\n",
    "cm_nb"
   ]
  },
  {
   "cell_type": "markdown",
   "metadata": {},
   "source": [
    " ## **ML 7: Logistic regression**"
   ]
  },
  {
   "cell_type": "markdown",
   "metadata": {},
   "source": [
    "Training the model."
   ]
  },
  {
   "cell_type": "code",
   "execution_count": null,
   "metadata": {},
   "outputs": [],
   "source": [
    "fitControl <- trainControl(## 10-fold CV\n",
    "  method = \"cv\",\n",
    "  number = 10,\n",
    "  savePredictions = TRUE)\n",
    "\n",
    "lreg<-train(diagnosis~.,data=train[,-1],method=\"glm\",family=binomial(),\n",
    "             trControl=fitControl)\n",
    "varImp(lreg)"
   ]
  },
  {
   "cell_type": "markdown",
   "metadata": {},
   "source": [
    "Testing the model."
   ]
  },
  {
   "cell_type": "code",
   "execution_count": null,
   "metadata": {},
   "outputs": [],
   "source": [
    "lreg_pred<-predict(lreg,test[,-c(1,2)])\n",
    "cm_logistic<-confusionMatrix(lreg_pred,test$diagnosis)\n",
    "cm_logistic"
   ]
  },
  {
   "cell_type": "markdown",
   "metadata": {},
   "source": [
    " ## **ML 8: Random Forest**"
   ]
  },
  {
   "cell_type": "markdown",
   "metadata": {},
   "source": [
    "Training the model"
   ]
  },
  {
   "cell_type": "code",
   "execution_count": null,
   "metadata": {},
   "outputs": [],
   "source": [
    "learn_ranger  <- train(diagnosis ~ ., data = train[,-1], method = \"ranger\")\n",
    "learn_ranger"
   ]
  },
  {
   "cell_type": "markdown",
   "metadata": {},
   "source": [
    "Testing the model."
   ]
  },
  {
   "cell_type": "code",
   "execution_count": null,
   "metadata": {},
   "outputs": [],
   "source": [
    "pre_ranger <- predict(learn_ranger, test[,-c(1,2)])\n",
    "cm_ranger <- confusionMatrix(pre_ranger, test$diagnosis)\n",
    "cm_ranger"
   ]
  },
  {
   "cell_type": "markdown",
   "metadata": {},
   "source": [
    " ## **ML 9: Classification tree**"
   ]
  },
  {
   "cell_type": "markdown",
   "metadata": {},
   "source": [
    "Training the model."
   ]
  },
  {
   "cell_type": "code",
   "execution_count": null,
   "metadata": {},
   "outputs": [],
   "source": [
    "learn_ct <- ctree(diagnosis~., data=train[,-1], controls=ctree_control(maxdepth=2))"
   ]
  },
  {
   "cell_type": "markdown",
   "metadata": {},
   "source": [
    "Testing the model."
   ]
  },
  {
   "cell_type": "code",
   "execution_count": null,
   "metadata": {},
   "outputs": [],
   "source": [
    "pre_ct   <- predict(learn_ct, test[,-c(1,2)])\n",
    "cm_ct    <- confusionMatrix(pre_ct, test$diagnosis)\n",
    "cm_ct"
   ]
  },
  {
   "cell_type": "markdown",
   "metadata": {},
   "source": [
    " ## **ML 10: K-nn**"
   ]
  },
  {
   "cell_type": "code",
   "execution_count": null,
   "metadata": {},
   "outputs": [],
   "source": [
    "control <- trainControl(method='repeatedcv', \n",
    "                        number=10, \n",
    "                        repeats=3)\n",
    "knnFit <- train(diagnosis ~ ., data = train[,-1], method = \"knn\", trControl = control,tuneLength = 20)\n",
    "plot(knnFit)"
   ]
  },
  {
   "cell_type": "markdown",
   "metadata": {},
   "source": [
    "Testing the model."
   ]
  },
  {
   "cell_type": "code",
   "execution_count": null,
   "metadata": {},
   "outputs": [],
   "source": [
    "knnPredict <- predict(knnFit,newdata = test )\n",
    "cm_knn<-confusionMatrix(knnPredict, test$diagnosis )\n",
    "cm_knn"
   ]
  },
  {
   "cell_type": "markdown",
   "metadata": {},
   "source": [
    " ## **ML 11: K-means**"
   ]
  },
  {
   "cell_type": "markdown",
   "metadata": {},
   "source": [
    "Training the model."
   ]
  },
  {
   "cell_type": "code",
   "execution_count": null,
   "metadata": {},
   "outputs": [],
   "source": [
    "predict.kmeans <- function(newdata, object){\n",
    "    centers <- object$centers\n",
    "    n_centers <- nrow(centers)\n",
    "    dist_mat <- as.matrix(dist(rbind(centers, newdata)))\n",
    "    dist_mat <- dist_mat[-seq(n_centers), seq(n_centers)]\n",
    "    max.col(-dist_mat)\n",
    "}"
   ]
  },
  {
   "cell_type": "code",
   "execution_count": null,
   "metadata": {},
   "outputs": [],
   "source": [
    "learn_kmeans <- kmeans(train[,-c(1,2)], centers=2)"
   ]
  },
  {
   "cell_type": "markdown",
   "metadata": {},
   "source": [
    "Testing the model."
   ]
  },
  {
   "cell_type": "code",
   "execution_count": null,
   "metadata": {},
   "outputs": [],
   "source": [
    "pre_kmeans <- predict.kmeans(test[,-c(1,2)],learn_kmeans)\n",
    "pre_kmeans <- factor(ifelse(pre_kmeans == 1,\"B\",\"M\"))\n",
    "cm_kmeans <- confusionMatrix(pre_kmeans, test$diagnosis)\n",
    "cm_kmeans"
   ]
  },
  {
   "cell_type": "markdown",
   "metadata": {},
   "source": [
    " ## **ML 12: Gradient boosting machines**"
   ]
  },
  {
   "cell_type": "markdown",
   "metadata": {},
   "source": [
    "Training the model."
   ]
  },
  {
   "cell_type": "code",
   "execution_count": null,
   "metadata": {},
   "outputs": [],
   "source": [
    "test_gbm <- gbm(diagnosis~., data=train[,-1], distribution=\"gaussian\",n.trees = 10000,\n",
    "                shrinkage = 0.01, interaction.depth = 4, bag.fraction=0.5, train.fraction=0.5,n.minobsinnode=10,cv.folds=3,keep.data=TRUE,verbose=FALSE,n.cores=1)\n",
    "\n",
    "best.iter <- gbm.perf(test_gbm, method=\"cv\",plot.it=FALSE)\n",
    "fitControl = trainControl(method=\"cv\", number=5, returnResamp=\"all\")\n",
    "learn_gbm = train(diagnosis~., data=train[,-1], method=\"gbm\", distribution=\"bernoulli\", trControl=fitControl, verbose=F, tuneGrid=data.frame(.n.trees=best.iter, .shrinkage=0.01, .interaction.depth=1, .n.minobsinnode=1))"
   ]
  },
  {
   "cell_type": "markdown",
   "metadata": {},
   "source": [
    "Testing the model."
   ]
  },
  {
   "cell_type": "code",
   "execution_count": null,
   "metadata": {},
   "outputs": [],
   "source": [
    "pre_gbm <- predict(learn_gbm, test[,-c(1,2)])\n",
    "cm_gbm <- confusionMatrix(pre_gbm, test$diagnosis)\n",
    "cm_gbm"
   ]
  },
  {
   "cell_type": "markdown",
   "metadata": {},
   "source": [
    " ## **ML 13: Adaboost**"
   ]
  },
  {
   "cell_type": "markdown",
   "metadata": {},
   "source": [
    "Training the model."
   ]
  },
  {
   "cell_type": "code",
   "execution_count": null,
   "metadata": {},
   "outputs": [],
   "source": [
    "control <- rpart.control(cp = -1, maxdepth = 14,maxcompete = 1,xval = 0)\n",
    "learn_ada <- ada(diagnosis~., data = train[,-1], test.x = train[,-c(1,2)], test.y = train$diagnosis, type = \"gentle\", control = control, iter = 70)"
   ]
  },
  {
   "cell_type": "markdown",
   "metadata": {},
   "source": [
    "Testing the model."
   ]
  },
  {
   "cell_type": "code",
   "execution_count": null,
   "metadata": {},
   "outputs": [],
   "source": [
    "pre_ada <- predict(learn_ada, test[,-c(1,2)])\n",
    "cm_ada <- confusionMatrix(pre_ada, test$diagnosis)\n",
    "cm_ada"
   ]
  },
  {
   "cell_type": "markdown",
   "metadata": {},
   "source": [
    " ## **ML 14: Support vector machines**"
   ]
  },
  {
   "cell_type": "markdown",
   "metadata": {},
   "source": [
    "Training the model."
   ]
  },
  {
   "cell_type": "code",
   "execution_count": null,
   "metadata": {},
   "outputs": [],
   "source": [
    "learn_svm <- svm(diagnosis~., data=train[,-1])"
   ]
  },
  {
   "cell_type": "markdown",
   "metadata": {},
   "source": [
    "Testing the model."
   ]
  },
  {
   "cell_type": "code",
   "execution_count": null,
   "metadata": {},
   "outputs": [],
   "source": [
    "pre_svm <- predict(learn_svm, test[,-c(1,2)])\n",
    "cm_svm <- confusionMatrix(pre_svm, test$diagnosis)\n",
    "cm_svm"
   ]
  },
  {
   "cell_type": "markdown",
   "metadata": {},
   "source": [
    " ## **ML 15: Tunned Support vector machines**"
   ]
  },
  {
   "cell_type": "markdown",
   "metadata": {},
   "source": [
    "Training the model."
   ]
  },
  {
   "cell_type": "code",
   "execution_count": null,
   "metadata": {},
   "outputs": [],
   "source": [
    "gamma <- seq(0,0.1,0.005)\n",
    "cost <- 2^(0:5)\n",
    "parms <- expand.grid(cost=cost, gamma=gamma)    \n",
    "\n",
    "acc_test <- numeric()\n",
    "accuracy1 <- NULL; accuracy2 <- NULL\n",
    "\n",
    "for(i in 1:NROW(parms)){        \n",
    "        learn_svm <- svm(diagnosis~., data=train[,-1], gamma=parms$gamma[i], cost=parms$cost[i])\n",
    "        pre_svm <- predict(learn_svm, test[,-c(1,2)])\n",
    "        accuracy1 <- confusionMatrix(pre_svm, test$diagnosis)\n",
    "        accuracy2[i] <- accuracy1$overall[1]\n",
    "}\n",
    "\n",
    "acc <- data.frame(p= seq(1,NROW(parms)), cnt = accuracy2)\n",
    "\n",
    "opt_p <- subset(acc, cnt==max(cnt))[1,]\n",
    "sub <- paste(\"Optimal number of parameter is\", opt_p$p, \"(accuracy :\", opt_p$cnt,\") in SVM\")\n",
    "\n",
    "hchart(acc, 'line', hcaes(p, cnt)) %>%\n",
    "  hc_title(text = \"Accuracy With Varying Parameters (SVM)\") %>%\n",
    "  hc_subtitle(text = sub) %>%\n",
    "  hc_add_theme(hc_theme_google()) %>%\n",
    "  hc_xAxis(title = list(text = \"Number of Parameters\")) %>%\n",
    "  hc_yAxis(title = list(text = \"Accuracy\"))"
   ]
  },
  {
   "cell_type": "code",
   "execution_count": null,
   "metadata": {},
   "outputs": [],
   "source": [
    "learn_imp_svm <- svm(diagnosis~., data=train[,-1], cost=parms$cost[opt_p$p], gamma=parms$gamma[opt_p$p])"
   ]
  },
  {
   "cell_type": "markdown",
   "metadata": {},
   "source": [
    "Testing the model."
   ]
  },
  {
   "cell_type": "code",
   "execution_count": null,
   "metadata": {},
   "outputs": [],
   "source": [
    "pre_imp_svm <- predict(learn_imp_svm, test[,-c(1,2)])\n",
    "cm_imp_svm <- confusionMatrix(pre_imp_svm, test$diagnosis)\n",
    "cm_imp_svm"
   ]
  },
  {
   "cell_type": "markdown",
   "metadata": {},
   "source": [
    " ## **ML 16: Random Forest: ranger**"
   ]
  },
  {
   "cell_type": "markdown",
   "metadata": {},
   "source": [
    "Training the model."
   ]
  },
  {
   "cell_type": "code",
   "execution_count": null,
   "metadata": {},
   "outputs": [],
   "source": [
    "tgrid <- expand.grid(\n",
    "  .mtry = 2:4,\n",
    "  .splitrule = \"gini\",\n",
    "  .min.node.size = c(10, 20)\n",
    ")\n",
    "ranger_caret <- train(diagnosis~.,data=train[,-1],\n",
    "                     method = \"ranger\",\n",
    "                     trControl = fitControl,\n",
    "                     tuneGrid = tgrid,\n",
    "                     num.trees = 100,\n",
    "                     importance = \"permutation\")\n",
    "varImp(ranger_caret)"
   ]
  },
  {
   "cell_type": "markdown",
   "metadata": {},
   "source": [
    "Testing the model."
   ]
  },
  {
   "cell_type": "code",
   "execution_count": null,
   "metadata": {},
   "outputs": [],
   "source": [
    "Rangercaret_pred<-predict(ranger_caret,test[,-c(1,2)])\n",
    "cm_Ranger<-confusionMatrix(Rangercaret_pred,test$diagnosis)\n",
    "cm_Ranger"
   ]
  },
  {
   "cell_type": "markdown",
   "metadata": {},
   "source": [
    " ## **ML 17: Random Forest: caret+RF**"
   ]
  },
  {
   "cell_type": "markdown",
   "metadata": {},
   "source": [
    "Training the model."
   ]
  },
  {
   "cell_type": "code",
   "execution_count": null,
   "metadata": {},
   "outputs": [],
   "source": [
    "#10 folds repeat 3 times\n",
    "control <- trainControl(method='repeatedcv', \n",
    "                        number=10, \n",
    "                        repeats=3)\n",
    "#Metric compare model is Accuracy\n",
    "metric <- \"Accuracy\"\n",
    "set.seed(123)\n",
    "#Number randomely variable selected is mtry\n",
    "mtry <- sqrt(ncol(train))\n",
    "tunegrid <- expand.grid(.mtry=mtry)\n",
    "rf_caret <- train(diagnosis~.,data=train[,-1], \n",
    "                      method='rf', \n",
    "                      metric='Accuracy', \n",
    "                      tuneGrid=tunegrid, \n",
    "                      trControl=control)\n",
    "varImp(rf_caret)"
   ]
  },
  {
   "cell_type": "markdown",
   "metadata": {},
   "source": [
    "Testing the model."
   ]
  },
  {
   "cell_type": "code",
   "execution_count": null,
   "metadata": {},
   "outputs": [],
   "source": [
    "RFcaret_pred<-predict(rf_caret,test[,-c(1,2)])\n",
    "cm_rf<-confusionMatrix(RFcaret_pred,test$diagnosis)\n",
    "cm_rf"
   ]
  },
  {
   "cell_type": "markdown",
   "metadata": {},
   "source": [
    "# **Step 10: The best model**"
   ]
  },
  {
   "cell_type": "markdown",
   "metadata": {},
   "source": [
    "In this kernel, several classification ML procedures were applied:\n",
    "\n",
    "    - Logistic regression.\n",
    "    - Decission tree: C5.0 and improved C5.0\n",
    "    - Rpart and Rpart prunned.\n",
    "    -  Naive Bayes.\n",
    "    - Random Forest: ranger, caret+ranger, caret+random forest.\n",
    "    - K-nn.\n",
    "    - Classification tree.\n",
    "    - Gradient boosting machine (GBM).\n",
    "    - Adaboost.\n",
    "    - Support vector machines (SVM) and improved SVM."
   ]
  },
  {
   "cell_type": "code",
   "execution_count": null,
   "metadata": {},
   "outputs": [],
   "source": [
    "col <- c(\"#ed3b3b\", \"#0099ff\")\n",
    "par(mfrow=c(2,3))\n",
    "fourfoldplot(cm_logistic$table, color = col, conf.level = 0, margin = 1, main=paste(\"Logistic (\",round(cm_ranger$overall[1]*100),\"%)\",sep=\"\"))\n",
    "fourfoldplot(cm_c50$table, color = col, conf.level = 0, margin = 1, main=paste(\"C5.0 (\",round(cm_c50$overall[1]*100),\"%)\",sep=\"\"))\n",
    "fourfoldplot(cm_imp_c50$table, color = col, conf.level = 0, margin = 1, main=paste(\"Tuned C5.0 (\",round(cm_imp_c50$overall[1]*100),\"%)\",sep=\"\"))\n",
    "fourfoldplot(cm_rp$table, color = col, conf.level = 0, margin = 1, main=paste(\"RPart (\",round(cm_rp$overall[1]*100),\"%)\",sep=\"\"))\n",
    "fourfoldplot(cm_pru$table, color = col, conf.level = 0, margin = 1, main=paste(\"Prune (\",round(cm_pru$overall[1]*100),\"%)\",sep=\"\"))\n",
    "\n",
    "par(mfrow=c(2,3))\n",
    "fourfoldplot(cm_ct$table, color = col, conf.level = 0, margin = 1, main=paste(\"CTree (\",round(cm_ct$overall[1]*100),\"%)\",sep=\"\"))\n",
    "fourfoldplot(cm_nb$table, color = col, conf.level = 0, margin = 1, main=paste(\"NaiveBayes (\",round(cm_nb$overall[1]*100),\"%)\",sep=\"\"))\n",
    "fourfoldplot(cm_knn$table, color = col, conf.level = 0, margin = 1, main=paste(\"K-nn (\",round(cm_ranger$overall[1]*100),\"%)\",sep=\"\"))\n",
    "fourfoldplot(cm_gbm$table, color = col, conf.level = 0, margin = 1, main=paste(\"GBM (\",round(cm_gbm$overall[1]*100),\"%)\",sep=\"\"))\n",
    "fourfoldplot(cm_ada$table, color = col, conf.level = 0, margin = 1, main=paste(\"AdaBoost (\",round(cm_ada$overall[1]*100),\"%)\",sep=\"\"))\n",
    "\n",
    "par(mfrow=c(2,3))\n",
    "fourfoldplot(cm_svm$table, color = col, conf.level = 0, margin = 1, main=paste(\"SVM (\",round(cm_svm$overall[1]*100),\"%)\",sep=\"\"))\n",
    "fourfoldplot(cm_imp_svm$table, color = col, conf.level = 0, margin = 1, main=paste(\"Tuned SVM (\",round(cm_imp_svm$overall[1]*100),\"%)\",sep=\"\"))\n",
    "fourfoldplot(cm_ranger$table, color = col, conf.level = 0, margin = 1, main=paste(\"RF (\",round(cm_ranger$overall[1]*100),\"%)\",sep=\"\"))\n",
    "fourfoldplot(cm_Ranger$table, color = col, conf.level = 0, margin = 1, main=paste(\"RF caret/ranger (\",round(cm_ranger$overall[1]*100),\"%)\",sep=\"\"))\n",
    "fourfoldplot(cm_rf$table, color = col, conf.level = 0, margin = 1, main=paste(\"RF caret/rf (\",round(cm_ranger$overall[1]*100),\"%)\",sep=\"\"))\n",
    "\n"
   ]
  },
  {
   "cell_type": "markdown",
   "metadata": {},
   "source": [
    "Which model is better?"
   ]
  },
  {
   "cell_type": "code",
   "execution_count": null,
   "metadata": {},
   "outputs": [],
   "source": [
    "opt_predict <- c(cm_logistic$overall[1],cm_ranger$overall[1],cm_Ranger$overall[1],cm_rf$overall[1],cm_c50$overall[1],cm_imp_c50$overall[1],cm_rp$overall[1],cm_pru$overall[1],cm_nb$overall[1],cm_ct$overall[1],cm_knn$overall[1],cm_gbm$overall[1],cm_ada$overall[1],cm_svm$overall[1],cm_imp_svm$overall[1] )\n",
    "names(opt_predict) <- c(\"Logistic regression\",\"Random Forest caret Ranger\",\"Random Forest Ranger\",\"Random Forest RF\",\"C5.0\",\"C5.0 improved\",\"Rpart\",\"Rpart improved\",\"Naive Bayes\",\"Classification tree\",\"K-nn\",\"GBM\",\"Adaboost\",\"SVM\",\"SVM improved\")\n",
    "best_predict_model <- subset(opt_predict, opt_predict==max(opt_predict))\n",
    "best_predict_model"
   ]
  },
  {
   "cell_type": "code",
   "execution_count": null,
   "metadata": {},
   "outputs": [],
   "source": [
    "cm_imp_svm$table"
   ]
  },
  {
   "cell_type": "markdown",
   "metadata": {},
   "source": [
    "# **Step 11: What is happening with the patiens who were incorrectly classified? **"
   ]
  },
  {
   "cell_type": "markdown",
   "metadata": {},
   "source": [
    "Patients who were classified incorrectly are patients with malignant tumors and the model predicted that the tumor was benign. This has important implication in clinical settings. If these patients are filtered, we can check the values of each variable "
   ]
  },
  {
   "cell_type": "code",
   "execution_count": null,
   "metadata": {},
   "outputs": [],
   "source": [
    "test[which(pre_imp_svm== 'B' & test$diagnosis=='M'),]"
   ]
  },
  {
   "cell_type": "markdown",
   "metadata": {},
   "source": [
    "Now, let's compute means of all variables. As it can be appreciated, the values of the patients that were incorrectly classified are similar to the mean values of the patients with benign tumors. So, it is possible that every ML procedure have problems when classifying these patients due to their characteristics."
   ]
  },
  {
   "cell_type": "code",
   "execution_count": null,
   "metadata": {},
   "outputs": [],
   "source": [
    "aggregate(data[, 3:32], list(data$diagnosis), mean)"
   ]
  },
  {
   "cell_type": "code",
   "execution_count": null,
   "metadata": {},
   "outputs": [],
   "source": []
  },
  {
   "cell_type": "code",
   "execution_count": null,
   "metadata": {},
   "outputs": [],
   "source": []
  }
 ],
 "metadata": {
  "kernelspec": {
   "display_name": "R",
   "language": "R",
   "name": "ir"
  },
  "language_info": {
   "codemirror_mode": "r",
   "file_extension": ".r",
   "mimetype": "text/x-r-source",
   "name": "R",
   "pygments_lexer": "r",
   "version": "3.4.2"
  }
 },
 "nbformat": 4,
 "nbformat_minor": 1
}
