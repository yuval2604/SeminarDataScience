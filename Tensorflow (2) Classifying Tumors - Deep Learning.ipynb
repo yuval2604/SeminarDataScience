{
 "cells": [
  {
   "cell_type": "markdown",
   "metadata": {
    "_cell_guid": "d7031c91-50c2-409e-8f8a-f52ccdb34820",
    "_uuid": "2e6eed6a8fa69909229718941411f9192efc917b"
   },
   "source": [
    "## Using Tensorflow for Classification: ##\n",
    "\n",
    "Tensorflow is Deep Learning Framework from Google. It has become quite popular in recent years and help in putting Neural Network Architecture together\n",
    "\n",
    "This kernel is about doing a classification task using Tensorflow. This example uses a DNNClassifier for performing Binary Classification. The data used is **Breast Cancer data from Wisconsin.** This has 32 Columns and 569 rows.\n",
    "\n",
    "The classifier used is DNNClassifier.\n",
    " "
   ]
  },
  {
   "cell_type": "code",
   "execution_count": 1,
   "metadata": {
    "_cell_guid": "b1076dfc-b9ad-4769-8c92-a6c4dae69d19",
    "_uuid": "8f2839f25d086af736a60e9eeb907d3b93b6e0e5"
   },
   "outputs": [],
   "source": [
    "import numpy as np # linear algebra\n",
    "import pandas as pd # data processing, CSV file I/O (e.g. pd.read_csv)\n",
    "import pandas.api.types as ptypes\n",
    "import tensorflow as tf\n",
    "from sklearn.model_selection import train_test_split\n",
    "from sklearn.metrics import classification_report\n",
    "from sklearn.metrics import confusion_matrix"
   ]
  },
  {
   "cell_type": "code",
   "execution_count": 2,
   "metadata": {
    "_cell_guid": "79c7e3d0-c299-4dcb-8224-4455121ee9b0",
    "_uuid": "d629ff2d2480ee46fbb7e2d37f6b5fab8052498a"
   },
   "outputs": [
    {
     "data": {
      "text/plain": [
       "33"
      ]
     },
     "execution_count": 2,
     "metadata": {},
     "output_type": "execute_result"
    }
   ],
   "source": [
    "df_wisconsin = pd.read_csv(\"BreastCancerDetection.csv\")\n",
    "df_wisconsin.columns = df_wisconsin.columns.str.replace('\\s+', '_')  # Replacing column names by _ whereever space id found\n",
    "len(df_wisconsin.columns)"
   ]
  },
  {
   "cell_type": "markdown",
   "metadata": {
    "_cell_guid": "627bc6c2-d15b-4425-8c5e-07e62c82a492",
    "_uuid": "3f25e7e48ec7f5d6e9c49a89605e0da266608540"
   },
   "source": [
    "**Determining numeric columns from the dataset.**\n",
    "Following is a strategy to find out which are numeric columns. This is done because, later on when building feature columns, this information will be required."
   ]
  },
  {
   "cell_type": "code",
   "execution_count": 3,
   "metadata": {
    "_cell_guid": "30f60ab4-24c1-4292-b643-a75082f21936",
    "_uuid": "f181ace31f305b2eb038bb6b4f2d262237ef49ac"
   },
   "outputs": [
    {
     "data": {
      "text/plain": [
       "32"
      ]
     },
     "execution_count": 3,
     "metadata": {},
     "output_type": "execute_result"
    }
   ],
   "source": [
    "numerics = ['int16', 'int32', 'int64', 'float16', 'float32', 'float64']\n",
    "df_wisconsin_numeric = df_wisconsin.select_dtypes(include=numerics) # exclude is another keyword.\n",
    "# Looking at the columns of the dataset\n",
    "len(df_wisconsin_numeric.columns)"
   ]
  },
  {
   "cell_type": "markdown",
   "metadata": {
    "_cell_guid": "616c699b-a855-461d-adab-8f8177f963b6",
    "_uuid": "52f83f358b173f020420321744180d246f9112ee"
   },
   "source": [
    "We observe that there is difference of only one column, which is the **diagnosis** column. This will also be the response or target column. Out of these 32 columns, *id* and *Unnamed:_32* will be ignored.\n",
    "\n",
    "Numeric columns are for further consideration are:\n",
    "\n",
    "'radius_mean',\n",
    "'texture_mean', \n",
    "'perimeter_mean',\n",
    "'area_mean',\n",
    "'smoothness_mean',\n",
    "'compactness_mean', \n",
    "'concavity_mean',\n",
    "'concave points_mean', \n",
    "'symmetry_mean',\n",
    "'fractal_dimension_mean',\n",
    "'radius_se',\n",
    " 'texture_se', \n",
    "'perimeter_se', \n",
    " 'area_se',\n",
    " 'smoothness_se',\n",
    " 'compactness_se',\n",
    "  'concavity_se',\n",
    "  'concave points_se',\n",
    "  'symmetry_se',\n",
    "  'fractal_dimension_se', \n",
    "  'radius_worst',\n",
    "  'texture_worst',\n",
    "  'perimeter_worst',\n",
    "  'area_worst', \n",
    "   'smoothness_worst',\n",
    "  'compactness_worst', \n",
    "   'concavity_worst', \n",
    "   'concave points_worst',\n",
    "   'symmetry_worst', \n",
    "   'fractal_dimension_worst'\n",
    "   \n",
    "   \n",
    "   Above mentioned numeric columns will be normalized."
   ]
  },
  {
   "cell_type": "markdown",
   "metadata": {
    "_cell_guid": "3f4c583b-7dc2-49a8-b848-1f4d0aa02168",
    "_uuid": "a20a8acd2b6cb8820e307c531ddbec6ba01cc9b8"
   },
   "source": []
  },
  {
   "cell_type": "code",
   "execution_count": 4,
   "metadata": {
    "_cell_guid": "32fdc3f7-477e-4e97-8ad1-19b8ac00ea13",
    "_uuid": "da6257d2928f7eadd39fe8f1a904148a7e4665d7"
   },
   "outputs": [],
   "source": [
    "normalize_columns = ['radius_mean', 'texture_mean', 'perimeter_mean', 'area_mean',\n",
    "       'smoothness_mean', 'compactness_mean', 'concavity_mean',\n",
    "       'concave_points_mean', 'symmetry_mean', 'fractal_dimension_mean',\n",
    "       'radius_se', 'texture_se', 'perimeter_se', 'area_se', 'smoothness_se',\n",
    "       'compactness_se', 'concavity_se', 'concave_points_se', 'symmetry_se',\n",
    "       'fractal_dimension_se', 'radius_worst', 'texture_worst',\n",
    "       'perimeter_worst', 'area_worst', 'smoothness_worst',\n",
    "       'compactness_worst', 'concavity_worst', 'concave_points_worst',\n",
    "       'symmetry_worst', 'fractal_dimension_worst']"
   ]
  },
  {
   "cell_type": "markdown",
   "metadata": {
    "_cell_guid": "82876b89-8087-4821-af55-2b2288219417",
    "_uuid": "127ee59d7b243d6fe918a31e3a8eb55aa8ca5bc6"
   },
   "source": [
    "We observe that Diagnosis is the column which we need to predict on unseen data. \n",
    "Data seems to be pretty well balanced and possible values are **Benign** and **Malignant**."
   ]
  },
  {
   "cell_type": "code",
   "execution_count": 5,
   "metadata": {
    "_cell_guid": "22ca73dc-c7c8-4d86-82a9-b6bcb075feeb",
    "_uuid": "b0300324c2123e719f4cba53602c65f3c6d0bb0f"
   },
   "outputs": [],
   "source": [
    "x_values = df_wisconsin.drop(['diagnosis','id','Unnamed:_32'],axis=1) # Getting Predictors\n",
    "y_val = df_wisconsin['diagnosis'] # getting response"
   ]
  },
  {
   "cell_type": "code",
   "execution_count": 6,
   "metadata": {
    "_cell_guid": "9ce3516b-0cb1-4c18-8f72-7c70eceefb6b",
    "_uuid": "6ba8475cd9b1cebf55661203f3340c888d6150bb"
   },
   "outputs": [
    {
     "data": {
      "text/html": [
       "<div>\n",
       "<style scoped>\n",
       "    .dataframe tbody tr th:only-of-type {\n",
       "        vertical-align: middle;\n",
       "    }\n",
       "\n",
       "    .dataframe tbody tr th {\n",
       "        vertical-align: top;\n",
       "    }\n",
       "\n",
       "    .dataframe thead th {\n",
       "        text-align: right;\n",
       "    }\n",
       "</style>\n",
       "<table border=\"1\" class=\"dataframe\">\n",
       "  <thead>\n",
       "    <tr style=\"text-align: right;\">\n",
       "      <th></th>\n",
       "      <th>radius_mean</th>\n",
       "      <th>texture_mean</th>\n",
       "      <th>perimeter_mean</th>\n",
       "      <th>area_mean</th>\n",
       "      <th>smoothness_mean</th>\n",
       "      <th>compactness_mean</th>\n",
       "      <th>concavity_mean</th>\n",
       "      <th>concave_points_mean</th>\n",
       "      <th>symmetry_mean</th>\n",
       "      <th>fractal_dimension_mean</th>\n",
       "      <th>...</th>\n",
       "      <th>radius_worst</th>\n",
       "      <th>texture_worst</th>\n",
       "      <th>perimeter_worst</th>\n",
       "      <th>area_worst</th>\n",
       "      <th>smoothness_worst</th>\n",
       "      <th>compactness_worst</th>\n",
       "      <th>concavity_worst</th>\n",
       "      <th>concave_points_worst</th>\n",
       "      <th>symmetry_worst</th>\n",
       "      <th>fractal_dimension_worst</th>\n",
       "    </tr>\n",
       "  </thead>\n",
       "  <tbody>\n",
       "    <tr>\n",
       "      <td>0</td>\n",
       "      <td>17.99</td>\n",
       "      <td>10.38</td>\n",
       "      <td>122.80</td>\n",
       "      <td>1001.0</td>\n",
       "      <td>0.11840</td>\n",
       "      <td>0.27760</td>\n",
       "      <td>0.3001</td>\n",
       "      <td>0.14710</td>\n",
       "      <td>0.2419</td>\n",
       "      <td>0.07871</td>\n",
       "      <td>...</td>\n",
       "      <td>25.38</td>\n",
       "      <td>17.33</td>\n",
       "      <td>184.60</td>\n",
       "      <td>2019.0</td>\n",
       "      <td>0.1622</td>\n",
       "      <td>0.6656</td>\n",
       "      <td>0.7119</td>\n",
       "      <td>0.2654</td>\n",
       "      <td>0.4601</td>\n",
       "      <td>0.11890</td>\n",
       "    </tr>\n",
       "    <tr>\n",
       "      <td>1</td>\n",
       "      <td>20.57</td>\n",
       "      <td>17.77</td>\n",
       "      <td>132.90</td>\n",
       "      <td>1326.0</td>\n",
       "      <td>0.08474</td>\n",
       "      <td>0.07864</td>\n",
       "      <td>0.0869</td>\n",
       "      <td>0.07017</td>\n",
       "      <td>0.1812</td>\n",
       "      <td>0.05667</td>\n",
       "      <td>...</td>\n",
       "      <td>24.99</td>\n",
       "      <td>23.41</td>\n",
       "      <td>158.80</td>\n",
       "      <td>1956.0</td>\n",
       "      <td>0.1238</td>\n",
       "      <td>0.1866</td>\n",
       "      <td>0.2416</td>\n",
       "      <td>0.1860</td>\n",
       "      <td>0.2750</td>\n",
       "      <td>0.08902</td>\n",
       "    </tr>\n",
       "    <tr>\n",
       "      <td>2</td>\n",
       "      <td>19.69</td>\n",
       "      <td>21.25</td>\n",
       "      <td>130.00</td>\n",
       "      <td>1203.0</td>\n",
       "      <td>0.10960</td>\n",
       "      <td>0.15990</td>\n",
       "      <td>0.1974</td>\n",
       "      <td>0.12790</td>\n",
       "      <td>0.2069</td>\n",
       "      <td>0.05999</td>\n",
       "      <td>...</td>\n",
       "      <td>23.57</td>\n",
       "      <td>25.53</td>\n",
       "      <td>152.50</td>\n",
       "      <td>1709.0</td>\n",
       "      <td>0.1444</td>\n",
       "      <td>0.4245</td>\n",
       "      <td>0.4504</td>\n",
       "      <td>0.2430</td>\n",
       "      <td>0.3613</td>\n",
       "      <td>0.08758</td>\n",
       "    </tr>\n",
       "    <tr>\n",
       "      <td>3</td>\n",
       "      <td>11.42</td>\n",
       "      <td>20.38</td>\n",
       "      <td>77.58</td>\n",
       "      <td>386.1</td>\n",
       "      <td>0.14250</td>\n",
       "      <td>0.28390</td>\n",
       "      <td>0.2414</td>\n",
       "      <td>0.10520</td>\n",
       "      <td>0.2597</td>\n",
       "      <td>0.09744</td>\n",
       "      <td>...</td>\n",
       "      <td>14.91</td>\n",
       "      <td>26.50</td>\n",
       "      <td>98.87</td>\n",
       "      <td>567.7</td>\n",
       "      <td>0.2098</td>\n",
       "      <td>0.8663</td>\n",
       "      <td>0.6869</td>\n",
       "      <td>0.2575</td>\n",
       "      <td>0.6638</td>\n",
       "      <td>0.17300</td>\n",
       "    </tr>\n",
       "    <tr>\n",
       "      <td>4</td>\n",
       "      <td>20.29</td>\n",
       "      <td>14.34</td>\n",
       "      <td>135.10</td>\n",
       "      <td>1297.0</td>\n",
       "      <td>0.10030</td>\n",
       "      <td>0.13280</td>\n",
       "      <td>0.1980</td>\n",
       "      <td>0.10430</td>\n",
       "      <td>0.1809</td>\n",
       "      <td>0.05883</td>\n",
       "      <td>...</td>\n",
       "      <td>22.54</td>\n",
       "      <td>16.67</td>\n",
       "      <td>152.20</td>\n",
       "      <td>1575.0</td>\n",
       "      <td>0.1374</td>\n",
       "      <td>0.2050</td>\n",
       "      <td>0.4000</td>\n",
       "      <td>0.1625</td>\n",
       "      <td>0.2364</td>\n",
       "      <td>0.07678</td>\n",
       "    </tr>\n",
       "  </tbody>\n",
       "</table>\n",
       "<p>5 rows × 30 columns</p>\n",
       "</div>"
      ],
      "text/plain": [
       "   radius_mean  texture_mean  perimeter_mean  area_mean  smoothness_mean  \\\n",
       "0        17.99         10.38          122.80     1001.0          0.11840   \n",
       "1        20.57         17.77          132.90     1326.0          0.08474   \n",
       "2        19.69         21.25          130.00     1203.0          0.10960   \n",
       "3        11.42         20.38           77.58      386.1          0.14250   \n",
       "4        20.29         14.34          135.10     1297.0          0.10030   \n",
       "\n",
       "   compactness_mean  concavity_mean  concave_points_mean  symmetry_mean  \\\n",
       "0           0.27760          0.3001              0.14710         0.2419   \n",
       "1           0.07864          0.0869              0.07017         0.1812   \n",
       "2           0.15990          0.1974              0.12790         0.2069   \n",
       "3           0.28390          0.2414              0.10520         0.2597   \n",
       "4           0.13280          0.1980              0.10430         0.1809   \n",
       "\n",
       "   fractal_dimension_mean  ...  radius_worst  texture_worst  perimeter_worst  \\\n",
       "0                 0.07871  ...         25.38          17.33           184.60   \n",
       "1                 0.05667  ...         24.99          23.41           158.80   \n",
       "2                 0.05999  ...         23.57          25.53           152.50   \n",
       "3                 0.09744  ...         14.91          26.50            98.87   \n",
       "4                 0.05883  ...         22.54          16.67           152.20   \n",
       "\n",
       "   area_worst  smoothness_worst  compactness_worst  concavity_worst  \\\n",
       "0      2019.0            0.1622             0.6656           0.7119   \n",
       "1      1956.0            0.1238             0.1866           0.2416   \n",
       "2      1709.0            0.1444             0.4245           0.4504   \n",
       "3       567.7            0.2098             0.8663           0.6869   \n",
       "4      1575.0            0.1374             0.2050           0.4000   \n",
       "\n",
       "   concave_points_worst  symmetry_worst  fractal_dimension_worst  \n",
       "0                0.2654          0.4601                  0.11890  \n",
       "1                0.1860          0.2750                  0.08902  \n",
       "2                0.2430          0.3613                  0.08758  \n",
       "3                0.2575          0.6638                  0.17300  \n",
       "4                0.1625          0.2364                  0.07678  \n",
       "\n",
       "[5 rows x 30 columns]"
      ]
     },
     "execution_count": 6,
     "metadata": {},
     "output_type": "execute_result"
    }
   ],
   "source": [
    "x_values.head() # Examining x_values"
   ]
  },
  {
   "cell_type": "code",
   "execution_count": 7,
   "metadata": {
    "_cell_guid": "9df31515-128f-4f7c-87f3-26c7ec8e9358",
    "_uuid": "97eaf08987c71f786ebe3115c517cf609e409d38"
   },
   "outputs": [
    {
     "data": {
      "text/plain": [
       "B    357\n",
       "M    212\n",
       "Name: diagnosis, dtype: int64"
      ]
     },
     "execution_count": 7,
     "metadata": {},
     "output_type": "execute_result"
    }
   ],
   "source": [
    "y_val.value_counts() # Checking if the classes are balanced. Seems pretty good."
   ]
  },
  {
   "cell_type": "code",
   "execution_count": 8,
   "metadata": {
    "_cell_guid": "248f3325-8d3a-4adc-92b7-9bb0151088b6",
    "_uuid": "cd975656eda95021824d276cbf9b8a8b23e17c3b"
   },
   "outputs": [],
   "source": [
    "# Converting Labels to integer form. 'B' and 'M; are represented as 0,1. Since Tensorflow does not accept categorical variables in text form, we are converting to integers.\n",
    "def label_numeric(label):\n",
    "    if (label == 'B'):\n",
    "        return(0)\n",
    "    else:\n",
    "        return(1)"
   ]
  },
  {
   "cell_type": "code",
   "execution_count": 9,
   "metadata": {
    "_cell_guid": "e95244bc-225b-4374-9392-a9ba899375c8",
    "_uuid": "9e57388a24a1ad9059056e0bd73ae4d737ad54bd"
   },
   "outputs": [
    {
     "data": {
      "text/plain": [
       "0    357\n",
       "1    212\n",
       "Name: diagnosis, dtype: int64"
      ]
     },
     "execution_count": 9,
     "metadata": {},
     "output_type": "execute_result"
    }
   ],
   "source": [
    "y_val_numeric =y_val.apply(label_numeric)\n",
    "y_val_numeric.value_counts()"
   ]
  },
  {
   "cell_type": "markdown",
   "metadata": {
    "_cell_guid": "03ea8b9d-c309-46f3-91b4-1931cabc9982",
    "_uuid": "e43b213f19d36b44227691db349414a716a632df"
   },
   "source": [
    "A quick check above confirms that things are happening as per the expectation."
   ]
  },
  {
   "cell_type": "markdown",
   "metadata": {
    "_cell_guid": "a5406d92-f3be-41cf-99de-b5e51b571255",
    "_uuid": "72e897534a3d23626a3fac714d57cefdf680dd0a"
   },
   "source": [
    "## Performing Training and Testing split ##\n",
    "Preparing data for model building and checking. 10 percent of data is kept aside for validation purposes. We will also be performing scaling of data using sklearn's *MinMaxScaler*."
   ]
  },
  {
   "cell_type": "code",
   "execution_count": 10,
   "metadata": {
    "_cell_guid": "70612546-fa9d-419a-b7a2-5188e3e537ee",
    "_uuid": "a88c75bfc7656b564e78d3bdee77fe24a779487a"
   },
   "outputs": [],
   "source": [
    "X_train, X_test, y_train, y_test = train_test_split(x_values,y_val_numeric,test_size=0.1,random_state=1234)\n",
    "from sklearn.preprocessing import MinMaxScaler\n",
    "scaler = MinMaxScaler()\n",
    "scaler.fit(X_train)\n",
    "X_train = pd.DataFrame(data=scaler.transform(X_train),columns = X_train.columns,index=X_train.index)\n",
    "#X_train.head()\n",
    "# Have a look at the before and after scaling step to understand what transformation has been done to the data."
   ]
  },
  {
   "cell_type": "code",
   "execution_count": 11,
   "metadata": {
    "_cell_guid": "00bd434e-8c36-482c-8ca9-d425c5f178de",
    "_uuid": "9270179e735c58305eb615f4f1194a962f50d3f9"
   },
   "outputs": [
    {
     "data": {
      "text/html": [
       "<div>\n",
       "<style scoped>\n",
       "    .dataframe tbody tr th:only-of-type {\n",
       "        vertical-align: middle;\n",
       "    }\n",
       "\n",
       "    .dataframe tbody tr th {\n",
       "        vertical-align: top;\n",
       "    }\n",
       "\n",
       "    .dataframe thead th {\n",
       "        text-align: right;\n",
       "    }\n",
       "</style>\n",
       "<table border=\"1\" class=\"dataframe\">\n",
       "  <thead>\n",
       "    <tr style=\"text-align: right;\">\n",
       "      <th></th>\n",
       "      <th>radius_mean</th>\n",
       "      <th>texture_mean</th>\n",
       "      <th>perimeter_mean</th>\n",
       "      <th>area_mean</th>\n",
       "      <th>smoothness_mean</th>\n",
       "      <th>compactness_mean</th>\n",
       "      <th>concavity_mean</th>\n",
       "      <th>concave_points_mean</th>\n",
       "      <th>symmetry_mean</th>\n",
       "      <th>fractal_dimension_mean</th>\n",
       "      <th>...</th>\n",
       "      <th>radius_worst</th>\n",
       "      <th>texture_worst</th>\n",
       "      <th>perimeter_worst</th>\n",
       "      <th>area_worst</th>\n",
       "      <th>smoothness_worst</th>\n",
       "      <th>compactness_worst</th>\n",
       "      <th>concavity_worst</th>\n",
       "      <th>concave_points_worst</th>\n",
       "      <th>symmetry_worst</th>\n",
       "      <th>fractal_dimension_worst</th>\n",
       "    </tr>\n",
       "  </thead>\n",
       "  <tbody>\n",
       "    <tr>\n",
       "      <td>531</td>\n",
       "      <td>0.221922</td>\n",
       "      <td>0.411438</td>\n",
       "      <td>0.217124</td>\n",
       "      <td>0.115673</td>\n",
       "      <td>0.531878</td>\n",
       "      <td>0.257345</td>\n",
       "      <td>0.098407</td>\n",
       "      <td>0.107207</td>\n",
       "      <td>0.403535</td>\n",
       "      <td>0.308551</td>\n",
       "      <td>...</td>\n",
       "      <td>0.192814</td>\n",
       "      <td>0.440486</td>\n",
       "      <td>0.182230</td>\n",
       "      <td>0.089805</td>\n",
       "      <td>0.553589</td>\n",
       "      <td>0.261092</td>\n",
       "      <td>0.220288</td>\n",
       "      <td>0.279038</td>\n",
       "      <td>0.323477</td>\n",
       "      <td>0.226026</td>\n",
       "    </tr>\n",
       "    <tr>\n",
       "      <td>166</td>\n",
       "      <td>0.180747</td>\n",
       "      <td>-0.028596</td>\n",
       "      <td>0.172621</td>\n",
       "      <td>0.090817</td>\n",
       "      <td>0.470403</td>\n",
       "      <td>0.130060</td>\n",
       "      <td>0.059302</td>\n",
       "      <td>0.084394</td>\n",
       "      <td>0.162121</td>\n",
       "      <td>0.295703</td>\n",
       "      <td>...</td>\n",
       "      <td>0.130559</td>\n",
       "      <td>-0.012686</td>\n",
       "      <td>0.115793</td>\n",
       "      <td>0.056233</td>\n",
       "      <td>0.478307</td>\n",
       "      <td>0.095478</td>\n",
       "      <td>0.083626</td>\n",
       "      <td>0.158179</td>\n",
       "      <td>0.103489</td>\n",
       "      <td>0.143972</td>\n",
       "    </tr>\n",
       "    <tr>\n",
       "      <td>485</td>\n",
       "      <td>0.258839</td>\n",
       "      <td>0.257362</td>\n",
       "      <td>0.269919</td>\n",
       "      <td>0.141336</td>\n",
       "      <td>0.461714</td>\n",
       "      <td>0.451065</td>\n",
       "      <td>0.361762</td>\n",
       "      <td>0.240855</td>\n",
       "      <td>0.516162</td>\n",
       "      <td>0.490522</td>\n",
       "      <td>...</td>\n",
       "      <td>0.208111</td>\n",
       "      <td>0.230499</td>\n",
       "      <td>0.236117</td>\n",
       "      <td>0.097179</td>\n",
       "      <td>0.305950</td>\n",
       "      <td>0.367523</td>\n",
       "      <td>0.391054</td>\n",
       "      <td>0.461168</td>\n",
       "      <td>0.328405</td>\n",
       "      <td>0.317198</td>\n",
       "    </tr>\n",
       "    <tr>\n",
       "      <td>66</td>\n",
       "      <td>0.117564</td>\n",
       "      <td>0.453692</td>\n",
       "      <td>0.112777</td>\n",
       "      <td>0.053404</td>\n",
       "      <td>0.562290</td>\n",
       "      <td>0.199815</td>\n",
       "      <td>0.050890</td>\n",
       "      <td>0.074751</td>\n",
       "      <td>0.331818</td>\n",
       "      <td>0.400800</td>\n",
       "      <td>...</td>\n",
       "      <td>0.088225</td>\n",
       "      <td>0.514710</td>\n",
       "      <td>0.082773</td>\n",
       "      <td>0.035760</td>\n",
       "      <td>0.552268</td>\n",
       "      <td>0.134965</td>\n",
       "      <td>0.075176</td>\n",
       "      <td>0.223952</td>\n",
       "      <td>0.258821</td>\n",
       "      <td>0.243146</td>\n",
       "    </tr>\n",
       "    <tr>\n",
       "      <td>220</td>\n",
       "      <td>0.315633</td>\n",
       "      <td>0.118651</td>\n",
       "      <td>0.304678</td>\n",
       "      <td>0.180445</td>\n",
       "      <td>0.476051</td>\n",
       "      <td>0.231936</td>\n",
       "      <td>0.091097</td>\n",
       "      <td>0.127386</td>\n",
       "      <td>0.151515</td>\n",
       "      <td>0.283909</td>\n",
       "      <td>...</td>\n",
       "      <td>0.263607</td>\n",
       "      <td>0.104184</td>\n",
       "      <td>0.245530</td>\n",
       "      <td>0.128048</td>\n",
       "      <td>0.395760</td>\n",
       "      <td>0.213552</td>\n",
       "      <td>0.140495</td>\n",
       "      <td>0.276838</td>\n",
       "      <td>0.160654</td>\n",
       "      <td>0.210809</td>\n",
       "    </tr>\n",
       "  </tbody>\n",
       "</table>\n",
       "<p>5 rows × 30 columns</p>\n",
       "</div>"
      ],
      "text/plain": [
       "     radius_mean  texture_mean  perimeter_mean  area_mean  smoothness_mean  \\\n",
       "531     0.221922      0.411438        0.217124   0.115673         0.531878   \n",
       "166     0.180747     -0.028596        0.172621   0.090817         0.470403   \n",
       "485     0.258839      0.257362        0.269919   0.141336         0.461714   \n",
       "66      0.117564      0.453692        0.112777   0.053404         0.562290   \n",
       "220     0.315633      0.118651        0.304678   0.180445         0.476051   \n",
       "\n",
       "     compactness_mean  concavity_mean  concave_points_mean  symmetry_mean  \\\n",
       "531          0.257345        0.098407             0.107207       0.403535   \n",
       "166          0.130060        0.059302             0.084394       0.162121   \n",
       "485          0.451065        0.361762             0.240855       0.516162   \n",
       "66           0.199815        0.050890             0.074751       0.331818   \n",
       "220          0.231936        0.091097             0.127386       0.151515   \n",
       "\n",
       "     fractal_dimension_mean  ...  radius_worst  texture_worst  \\\n",
       "531                0.308551  ...      0.192814       0.440486   \n",
       "166                0.295703  ...      0.130559      -0.012686   \n",
       "485                0.490522  ...      0.208111       0.230499   \n",
       "66                 0.400800  ...      0.088225       0.514710   \n",
       "220                0.283909  ...      0.263607       0.104184   \n",
       "\n",
       "     perimeter_worst  area_worst  smoothness_worst  compactness_worst  \\\n",
       "531         0.182230    0.089805          0.553589           0.261092   \n",
       "166         0.115793    0.056233          0.478307           0.095478   \n",
       "485         0.236117    0.097179          0.305950           0.367523   \n",
       "66          0.082773    0.035760          0.552268           0.134965   \n",
       "220         0.245530    0.128048          0.395760           0.213552   \n",
       "\n",
       "     concavity_worst  concave_points_worst  symmetry_worst  \\\n",
       "531         0.220288              0.279038        0.323477   \n",
       "166         0.083626              0.158179        0.103489   \n",
       "485         0.391054              0.461168        0.328405   \n",
       "66          0.075176              0.223952        0.258821   \n",
       "220         0.140495              0.276838        0.160654   \n",
       "\n",
       "     fractal_dimension_worst  \n",
       "531                 0.226026  \n",
       "166                 0.143972  \n",
       "485                 0.317198  \n",
       "66                  0.243146  \n",
       "220                 0.210809  \n",
       "\n",
       "[5 rows x 30 columns]"
      ]
     },
     "execution_count": 11,
     "metadata": {},
     "output_type": "execute_result"
    }
   ],
   "source": [
    "# Similarly, scaling is performed on test data as well.\n",
    "X_test = pd.DataFrame(data=scaler.transform(X_test),columns = X_test.columns,index=X_test.index)\n",
    "X_test.head()"
   ]
  },
  {
   "cell_type": "markdown",
   "metadata": {
    "_cell_guid": "e2e3169b-973b-4309-889f-3ae53b759703",
    "_uuid": "d74a8b422c260fdf3c333e4f99adee969ad3a1a4"
   },
   "source": [
    "### Building feature columns for Tensorflow framework ###\n",
    "Tensorflow expects feature columns to be built using its api calls. Following is a lengthy way of creating them. Later on, an efficient mechanism is also used. Following is retained as it makes the understanding easier."
   ]
  },
  {
   "cell_type": "code",
   "execution_count": 12,
   "metadata": {
    "_cell_guid": "c92542b7-127f-43c6-a802-5828ab72cc7b",
    "_uuid": "a31cc088e446101c3beead720d497aa3cbdb2eb9"
   },
   "outputs": [],
   "source": [
    "# Now we have 30 features which will be built in tensorflow framewor. Tensorflow requires these features to be defined as feature columns.\n",
    "fc_radius_mean = tf.feature_column.numeric_column('radius_mean')\n",
    "fc_texture_mean = tf.feature_column.numeric_column('texture_mean')\n",
    "fc_perimeter_mean = tf.feature_column.numeric_column('perimeter_mean')\n",
    "fc_area_mean = tf.feature_column.numeric_column('area_mean')\n",
    "fc_smoothness_mean = tf.feature_column.numeric_column('smoothness_mean')\n",
    "fc_compactness_mean = tf.feature_column.numeric_column('compactness_mean')\n",
    "fc_concavity_mean = tf.feature_column.numeric_column('concavity_mean')\n",
    "fc_concave_points_mean = tf.feature_column.numeric_column('concave points_mean')\n",
    "fc_symmetry_mean = tf.feature_column.numeric_column('symmetry_mean')\n",
    "fc_fractal_dimension_mean = tf.feature_column.numeric_column('fractal_dimension_mean')\n",
    "fc_radius_se = tf.feature_column.numeric_column('radius_se')\n",
    "fc_texture_se = tf.feature_column.numeric_column('texture_se')\n",
    "fc_perimeter_se = tf.feature_column.numeric_column('perimeter_se')\n",
    "fc_area_se = tf.feature_column.numeric_column('area_se')\n",
    "fc_smoothness_se = tf.feature_column.numeric_column('smoothness_se')\n",
    "fc_compactness_se = tf.feature_column.numeric_column('compactness_se')\n",
    "fc_concavity_se = tf.feature_column.numeric_column('concavity_se')\n",
    "fc_concave_points_se = tf.feature_column.numeric_column('concave points_se')\n",
    "fc_symmetry_se = tf.feature_column.numeric_column('symmetry_se')\n",
    "fc_fractal_dimension_se = tf.feature_column.numeric_column('fractal_dimension_se')\n",
    "fc_radius_worst = tf.feature_column.numeric_column('radius_worst')\n",
    "fc_texture_worst = tf.feature_column.numeric_column('texture_worst')\n",
    "fc_perimeter_worst = tf.feature_column.numeric_column('perimeter_worst')\n",
    "fc_area_worst = tf.feature_column.numeric_column('area_worst')\n",
    "fc_smoothness_worst = tf.feature_column.numeric_column('smoothness_worst')\n",
    "fc_compactness_worst = tf.feature_column.numeric_column('compactness_worst')\n",
    "fc_concavity_worst = tf.feature_column.numeric_column('concavity_worst')\n",
    "fc_concave_points_worst = tf.feature_column.numeric_column('concave points_worst')\n",
    "fc_symmetry_worst = tf.feature_column.numeric_column('symmetry_worst')\n",
    "fc_fractal_dimension_worst = tf.feature_column.numeric_column('fractal_dimension_worst')\n",
    "#feat_cols = [fc_radius_mean, ..., fc_concave_points_worst, fc_symmetry_worst]\n"
   ]
  },
  {
   "cell_type": "code",
   "execution_count": 13,
   "metadata": {},
   "outputs": [
    {
     "name": "stdout",
     "output_type": "stream",
     "text": [
      "NumericColumn(key='radius_mean', shape=(1,), default_value=None, dtype=tf.float32, normalizer_fn=None)\n"
     ]
    }
   ],
   "source": [
    "# df = X_train\n",
    "# for col in df.columns:\n",
    "#     if ptypes.is_string_dtype(df[col]): #is_string_dtype is pandas function\n",
    "#         print(col)\n",
    "#     else :\n",
    "#         print(\"else \",type(df[col]))\n",
    "#print(df.columns)\n",
    "print(tf.feature_column.numeric_column('radius_mean'))"
   ]
  },
  {
   "cell_type": "code",
   "execution_count": 14,
   "metadata": {
    "_cell_guid": "779a3b23-cefd-410f-bc7c-156cb6b3e170",
    "_uuid": "bf7466556fcff2ab3204320afe0846b49f7dc19b"
   },
   "outputs": [],
   "source": [
    "# Efficient way of building feature columns. \n",
    "# Please notice that Categorical Columns and Numerical Columns are treated differently.\n",
    "feat_cols = []\n",
    "df = X_train\n",
    "for col in df.columns:\n",
    "    if ptypes.is_string_dtype(df[col]): #is_string_dtype is pandas function\n",
    "        feat_cols.append(tf.feature_column.categorical_column_with_hash_bucket(col, \n",
    "        hash_bucket_size= len(df[col].unique())))\n",
    "        \n",
    "    elif ptypes.is_numeric_dtype(df[col]): #is_numeric_dtype is pandas function\n",
    "        feat_cols.append(tf.feature_column.numeric_column(col))\n",
    "        "
   ]
  },
  {
   "cell_type": "markdown",
   "metadata": {
    "_cell_guid": "7943319e-96ca-4f41-baa7-2b36ed64cfcb",
    "_uuid": "7b8c33584e52be6acc26f34ba03c5823dcd212f3",
    "collapsed": true
   },
   "source": [
    "Having a look at the Feature Columns as below:"
   ]
  },
  {
   "cell_type": "code",
   "execution_count": 15,
   "metadata": {
    "_cell_guid": "b4a88175-e58c-40b1-8cb4-57681600bc39",
    "_uuid": "cbc5e5a74417e4264d74fa7b54816724b5eeca50"
   },
   "outputs": [
    {
     "name": "stdout",
     "output_type": "stream",
     "text": [
      "[NumericColumn(key='radius_mean', shape=(1,), default_value=None, dtype=tf.float32, normalizer_fn=None), NumericColumn(key='texture_mean', shape=(1,), default_value=None, dtype=tf.float32, normalizer_fn=None), NumericColumn(key='perimeter_mean', shape=(1,), default_value=None, dtype=tf.float32, normalizer_fn=None), NumericColumn(key='area_mean', shape=(1,), default_value=None, dtype=tf.float32, normalizer_fn=None), NumericColumn(key='smoothness_mean', shape=(1,), default_value=None, dtype=tf.float32, normalizer_fn=None), NumericColumn(key='compactness_mean', shape=(1,), default_value=None, dtype=tf.float32, normalizer_fn=None), NumericColumn(key='concavity_mean', shape=(1,), default_value=None, dtype=tf.float32, normalizer_fn=None), NumericColumn(key='concave_points_mean', shape=(1,), default_value=None, dtype=tf.float32, normalizer_fn=None), NumericColumn(key='symmetry_mean', shape=(1,), default_value=None, dtype=tf.float32, normalizer_fn=None), NumericColumn(key='fractal_dimension_mean', shape=(1,), default_value=None, dtype=tf.float32, normalizer_fn=None), NumericColumn(key='radius_se', shape=(1,), default_value=None, dtype=tf.float32, normalizer_fn=None), NumericColumn(key='texture_se', shape=(1,), default_value=None, dtype=tf.float32, normalizer_fn=None), NumericColumn(key='perimeter_se', shape=(1,), default_value=None, dtype=tf.float32, normalizer_fn=None), NumericColumn(key='area_se', shape=(1,), default_value=None, dtype=tf.float32, normalizer_fn=None), NumericColumn(key='smoothness_se', shape=(1,), default_value=None, dtype=tf.float32, normalizer_fn=None), NumericColumn(key='compactness_se', shape=(1,), default_value=None, dtype=tf.float32, normalizer_fn=None), NumericColumn(key='concavity_se', shape=(1,), default_value=None, dtype=tf.float32, normalizer_fn=None), NumericColumn(key='concave_points_se', shape=(1,), default_value=None, dtype=tf.float32, normalizer_fn=None), NumericColumn(key='symmetry_se', shape=(1,), default_value=None, dtype=tf.float32, normalizer_fn=None), NumericColumn(key='fractal_dimension_se', shape=(1,), default_value=None, dtype=tf.float32, normalizer_fn=None), NumericColumn(key='radius_worst', shape=(1,), default_value=None, dtype=tf.float32, normalizer_fn=None), NumericColumn(key='texture_worst', shape=(1,), default_value=None, dtype=tf.float32, normalizer_fn=None), NumericColumn(key='perimeter_worst', shape=(1,), default_value=None, dtype=tf.float32, normalizer_fn=None), NumericColumn(key='area_worst', shape=(1,), default_value=None, dtype=tf.float32, normalizer_fn=None), NumericColumn(key='smoothness_worst', shape=(1,), default_value=None, dtype=tf.float32, normalizer_fn=None), NumericColumn(key='compactness_worst', shape=(1,), default_value=None, dtype=tf.float32, normalizer_fn=None), NumericColumn(key='concavity_worst', shape=(1,), default_value=None, dtype=tf.float32, normalizer_fn=None), NumericColumn(key='concave_points_worst', shape=(1,), default_value=None, dtype=tf.float32, normalizer_fn=None), NumericColumn(key='symmetry_worst', shape=(1,), default_value=None, dtype=tf.float32, normalizer_fn=None), NumericColumn(key='fractal_dimension_worst', shape=(1,), default_value=None, dtype=tf.float32, normalizer_fn=None)]\n"
     ]
    }
   ],
   "source": [
    "print(feat_cols)"
   ]
  },
  {
   "cell_type": "markdown",
   "metadata": {
    "_cell_guid": "ed7e8138-0af3-4f56-a4d5-de1309260a0b",
    "_uuid": "1c90c79a6bd82c94ce337ddea26a82a010d4e161"
   },
   "source": [
    "### Choosing Classification model, input function and training steps. ###\n",
    "*  Classification model -  tf.estimator.DNNClassifier is chosen as the model for training the data.\n",
    "*  Input function - Since we have loaded data using Pandas input function, we will use pandas_input_fn. Tensorflow also provides numpy based input function.\n",
    "*  epocs and steps - Since these terms are used frequently, it is important to understand the difference between them.\n",
    "    Following explanation is taken from Stackoverflow:\n",
    "    \n",
    ">     In the neural network terminology:\n",
    ">         one epoch = one forward pass and one backward pass of all the training examples\n",
    ">         batch size = the number of training examples in one forward/backward pass. The higher the batch size, the more memory space you'll need.\n",
    ">         number of iterations = number of passes, each pass using [batch size] number of examples. To be clear, one pass = one forward pass + one backward pass (we do not count the forward pass and backward pass as two different passes)."
   ]
  },
  {
   "cell_type": "code",
   "execution_count": 16,
   "metadata": {
    "_cell_guid": "c82d7335-72fb-4f8c-bd00-8621bf387dd1",
    "_uuid": "6bf1434dae4b7469261911186044a25bf1b502a2"
   },
   "outputs": [
    {
     "name": "stdout",
     "output_type": "stream",
     "text": [
      "INFO:tensorflow:Using default config.\n",
      "WARNING:tensorflow:Using temporary folder as model directory: /var/folders/61/41z9g_ts09v_8vy_wnjpt8nc0000gq/T/tmp0n89los8\n",
      "INFO:tensorflow:Using config: {'_model_dir': '/var/folders/61/41z9g_ts09v_8vy_wnjpt8nc0000gq/T/tmp0n89los8', '_tf_random_seed': None, '_save_summary_steps': 100, '_save_checkpoints_steps': None, '_save_checkpoints_secs': 600, '_session_config': allow_soft_placement: true\n",
      "graph_options {\n",
      "  rewrite_options {\n",
      "    meta_optimizer_iterations: ONE\n",
      "  }\n",
      "}\n",
      ", '_keep_checkpoint_max': 5, '_keep_checkpoint_every_n_hours': 10000, '_log_step_count_steps': 100, '_train_distribute': None, '_device_fn': None, '_protocol': None, '_eval_distribute': None, '_experimental_distribute': None, '_experimental_max_worker_delay_secs': None, '_session_creation_timeout_secs': 7200, '_service': None, '_cluster_spec': <tensorflow.python.training.server_lib.ClusterSpec object at 0x7fb204db2550>, '_task_type': 'worker', '_task_id': 0, '_global_id_in_cluster': 0, '_master': '', '_evaluation_master': '', '_is_chief': True, '_num_ps_replicas': 0, '_num_worker_replicas': 1}\n"
     ]
    }
   ],
   "source": [
    "classifier = tf.estimator.DNNClassifier(\n",
    "        feature_columns=feat_cols,\n",
    "        # Two hidden layers of 20 nodes each.\n",
    "        hidden_units=[20, 20],\n",
    "        # The model must choose between 2 classes.\n",
    "        n_classes=2)"
   ]
  },
  {
   "cell_type": "code",
   "execution_count": 17,
   "metadata": {
    "_cell_guid": "7743658b-e6bb-45d4-af10-96968fce5ebc",
    "_uuid": "17181ee96501b1b25acba19b72fd82de958f1c5c"
   },
   "outputs": [
    {
     "ename": "AttributeError",
     "evalue": "module 'tensorflow_core.estimator' has no attribute 'inputs'",
     "output_type": "error",
     "traceback": [
      "\u001b[0;31m---------------------------------------------------------------------------\u001b[0m",
      "\u001b[0;31mAttributeError\u001b[0m                            Traceback (most recent call last)",
      "\u001b[0;32m<ipython-input-17-753399eefd3d>\u001b[0m in \u001b[0;36m<module>\u001b[0;34m\u001b[0m\n\u001b[0;32m----> 1\u001b[0;31m \u001b[0minput_func\u001b[0m \u001b[0;34m=\u001b[0m \u001b[0mtf\u001b[0m\u001b[0;34m.\u001b[0m\u001b[0mestimator\u001b[0m\u001b[0;34m.\u001b[0m\u001b[0minputs\u001b[0m\u001b[0;34m.\u001b[0m\u001b[0mpandas_input_fn\u001b[0m\u001b[0;34m(\u001b[0m\u001b[0mx\u001b[0m\u001b[0;34m=\u001b[0m\u001b[0mX_train\u001b[0m\u001b[0;34m,\u001b[0m\u001b[0my\u001b[0m\u001b[0;34m=\u001b[0m\u001b[0my_train\u001b[0m \u001b[0;34m,\u001b[0m\u001b[0mbatch_size\u001b[0m\u001b[0;34m=\u001b[0m\u001b[0;36m10\u001b[0m\u001b[0;34m,\u001b[0m\u001b[0mnum_epochs\u001b[0m\u001b[0;34m=\u001b[0m\u001b[0;36m500\u001b[0m\u001b[0;34m,\u001b[0m \u001b[0mshuffle\u001b[0m\u001b[0;34m=\u001b[0m\u001b[0;32mTrue\u001b[0m\u001b[0;34m)\u001b[0m\u001b[0;34m\u001b[0m\u001b[0;34m\u001b[0m\u001b[0m\n\u001b[0m",
      "\u001b[0;31mAttributeError\u001b[0m: module 'tensorflow_core.estimator' has no attribute 'inputs'"
     ]
    }
   ],
   "source": [
    "input_func = tf.estimator.inputs.pandas_input_fn(x=X_train,y=y_train ,batch_size=10,num_epochs=500, shuffle=True)"
   ]
  },
  {
   "cell_type": "markdown",
   "metadata": {
    "_cell_guid": "4a788ffc-15df-41d8-bd54-955421f2d0df",
    "_uuid": "b3c551cda25c964ba83d237df25d9cf63d06517e"
   },
   "source": [
    "### Now it is time to train the Classifier ###"
   ]
  },
  {
   "cell_type": "code",
   "execution_count": null,
   "metadata": {
    "_cell_guid": "fb25790a-d81e-48b6-b1c2-bb35a24c0180",
    "_uuid": "b721fe3c362763f68450f0abf8c071c0c2bb55b4"
   },
   "outputs": [],
   "source": [
    "classifier.train(input_fn=input_func, steps=10000)"
   ]
  },
  {
   "cell_type": "markdown",
   "metadata": {
    "_cell_guid": "3ee1e7ef-aeb7-450c-a67a-05548e8bbcf9",
    "_uuid": "6fa5317a3715051c16be103d7c656b76a7fd65e6",
    "collapsed": true
   },
   "source": [
    "Creating an input function for prediction, will be applied on test data. Please note that shuffle parameter is set to False here."
   ]
  },
  {
   "cell_type": "code",
   "execution_count": null,
   "metadata": {
    "_cell_guid": "02a594cf-3d04-40d0-991c-08539be4215c",
    "_uuid": "f0f6050d033a60a987c3138a781cfbb35aaa5d13"
   },
   "outputs": [],
   "source": [
    "pred_fn = tf.estimator.inputs.pandas_input_fn(x=X_test,batch_size=len(X_test),shuffle=False) # Shuffle should be set as false as we are interested in comparing with actual results."
   ]
  },
  {
   "cell_type": "code",
   "execution_count": null,
   "metadata": {
    "_cell_guid": "2384e90d-587c-4172-ae0f-c90bf339f4e7",
    "_uuid": "aafebc0176ba8c9c069e39c32da5be121b31a4c6"
   },
   "outputs": [],
   "source": [
    "# Prediction is done here now.\n",
    "predictions = list(classifier.predict(input_fn=pred_fn))\n",
    "predictions[0]"
   ]
  },
  {
   "cell_type": "markdown",
   "metadata": {
    "_cell_guid": "e5755ee6-a4ff-47a7-a323-9a36407c0c23",
    "_uuid": "c08923850bb77c090ee9f9abf5adcb7403080bde"
   },
   "source": [
    "Since prediction API outputs a number of information, we are taking the required stuff here which is class_ids."
   ]
  },
  {
   "cell_type": "code",
   "execution_count": null,
   "metadata": {
    "_cell_guid": "2364fd7d-f367-4ee3-9bb4-8e3243effe31",
    "_uuid": "d2bc20429c916188e05e409a6ad388d6cd6c4c35"
   },
   "outputs": [],
   "source": [
    "final_preds = []\n",
    "for pred in predictions:\n",
    "    #info = \"{} {} {}\".format(pred['class_ids'][0], pred['probabilities'][0] , pred['probabilities'][1])\n",
    "    final_preds.append(pred['class_ids'][0])\n",
    "    #final_preds.append(info)"
   ]
  },
  {
   "cell_type": "markdown",
   "metadata": {
    "_cell_guid": "7fa96f74-1877-4164-8089-ad08be654b18",
    "_uuid": "4554613410d0ccd9dd54bdedd9347084ef0c6b9e"
   },
   "source": [
    "### Evaluating model performance ###\n",
    "Once we have prediction data available with us, we can now compare with the 10% data we have kept aside. As we have kept aside the unseen data, we can be reasonably confident that our model has not overfit. This is important step in machine learning to not to use evaluation data for training a model.\n",
    "We have used classification report, accuracy and confusion matrix to evaluate the model performance."
   ]
  },
  {
   "cell_type": "code",
   "execution_count": null,
   "metadata": {
    "_cell_guid": "245ca76b-df5f-4ecc-ac03-473010d7a20e",
    "_uuid": "ccf7ecc4ef74ca087ff5ff168e646b767891bfef"
   },
   "outputs": [],
   "source": [
    "print(classification_report(y_test,final_preds))"
   ]
  },
  {
   "cell_type": "code",
   "execution_count": null,
   "metadata": {
    "_cell_guid": "ddb75319-14fd-4f12-98c9-60d331f15e53",
    "_uuid": "df672c79ec7b27e76976e05a465d71ed3b2ca70b"
   },
   "outputs": [],
   "source": [
    "print(confusion_matrix(y_test,final_preds))"
   ]
  },
  {
   "cell_type": "code",
   "execution_count": null,
   "metadata": {
    "_cell_guid": "c3f3b913-c890-473a-9724-3df2480381bb",
    "_uuid": "c9fd382cbbe9509e79bf227970556396e2ccf3ae"
   },
   "outputs": [],
   "source": [
    "from sklearn.metrics import accuracy_score\n",
    "accuracy_score(y_test,final_preds, normalize=True, sample_weight=None)"
   ]
  },
  {
   "cell_type": "markdown",
   "metadata": {
    "_cell_guid": "e8308b72-ad00-48fd-8e9e-38b19072408c",
    "_uuid": "19e592b77e35d556a08819668f2cb9335ecc043c",
    "collapsed": true
   },
   "source": [
    "We see that out of 57 observations, only 1 is misclassified. This concludes this article of using Tensorflow for classification. ** Happy Model Building! #**\n",
    "\n",
    "*Note: This has been a good experience using Tensorflow for NN. Hope you liked!*"
   ]
  }
 ],
 "metadata": {
  "kernelspec": {
   "display_name": "Python 3",
   "language": "python",
   "name": "python3"
  },
  "language_info": {
   "codemirror_mode": {
    "name": "ipython",
    "version": 3
   },
   "file_extension": ".py",
   "mimetype": "text/x-python",
   "name": "python",
   "nbconvert_exporter": "python",
   "pygments_lexer": "ipython3",
   "version": "3.7.4"
  }
 },
 "nbformat": 4,
 "nbformat_minor": 1
}
